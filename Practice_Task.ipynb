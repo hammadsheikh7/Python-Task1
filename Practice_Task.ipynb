{
  "cells": [
    {
      "cell_type": "markdown",
      "metadata": {},
      "source": [
        "for basic python, i covered\n",
        "1) basic program\n",
        "2) arrays\n",
        "3) list\n",
        "4) matrix\n",
        "5)string\n",
        "6) dictionary\n",
        "7) tuple\n",
        "8) search and sort\n",
        "9) regex\n",
        "10)file handling"
      ]
    },
    {
      "cell_type": "markdown",
      "metadata": {
        "id": "y5kyRXR12SnZ"
      },
      "source": [
        "Area of a circle"
      ]
    },
    {
      "cell_type": "code",
      "execution_count": null,
      "metadata": {
        "colab": {
          "base_uri": "https://localhost:8080/"
        },
        "id": "gIfT-mAh2DAf",
        "outputId": "a9cbfce3-4ad9-4eb7-d109-9d6a761f4f6d"
      },
      "outputs": [
        {
          "name": "stdout",
          "output_type": "stream",
          "text": [
            "28.26\n"
          ]
        }
      ],
      "source": [
        "pi = 3.14\n",
        "def AreaOfCircle(r):\n",
        "  area = pi * (r*r)\n",
        "  return area\n",
        "print(AreaOfCircle(3))"
      ]
    },
    {
      "cell_type": "markdown",
      "metadata": {
        "id": "5lS4EGmR3HiP"
      },
      "source": [
        "Calculate simple Interest"
      ]
    },
    {
      "cell_type": "code",
      "execution_count": null,
      "metadata": {
        "colab": {
          "base_uri": "https://localhost:8080/"
        },
        "id": "AnGCVFJS3Pee",
        "outputId": "0e15d4a6-91b6-4b0a-d62b-72cd4266ba3a"
      },
      "outputs": [
        {
          "name": "stdout",
          "output_type": "stream",
          "text": [
            "400.0\n"
          ]
        }
      ],
      "source": [
        "#interest formula = PTR/100\n",
        "#where P=Principle amount, T is the time and R is the rate\n",
        "\n",
        "def CalculateInterest(P, T, R):\n",
        "    interest = (P*T*R)/100\n",
        "    print (interest)\n",
        "\n",
        "CalculateInterest(1000, 5, 8)"
      ]
    },
    {
      "cell_type": "markdown",
      "metadata": {
        "id": "xxrp0Gx15IlI"
      },
      "source": [
        "Find maximum"
      ]
    },
    {
      "cell_type": "code",
      "execution_count": null,
      "metadata": {
        "colab": {
          "base_uri": "https://localhost:8080/"
        },
        "id": "ZI_MvJdW5LBb",
        "outputId": "8746e02e-2b47-4391-9fd4-1f7ae1424bdd"
      },
      "outputs": [
        {
          "name": "stdout",
          "output_type": "stream",
          "text": [
            "Max number is =  20\n"
          ]
        }
      ],
      "source": [
        "def max_number(a, b):\n",
        "  if a > b:\n",
        "    print(\"Max number is = \", a)\n",
        "  else:\n",
        "    print(\"Max number is = \",b)\n",
        "\n",
        "max_number(10,20)"
      ]
    },
    {
      "cell_type": "markdown",
      "metadata": {
        "id": "3guZunm_61MK"
      },
      "source": [
        "Find largest value in an array"
      ]
    },
    {
      "cell_type": "code",
      "execution_count": null,
      "metadata": {
        "colab": {
          "base_uri": "https://localhost:8080/"
        },
        "id": "bm7oGjbx63e3",
        "outputId": "7132f996-6489-4a51-e347-b376acea36c4"
      },
      "outputs": [
        {
          "name": "stdout",
          "output_type": "stream",
          "text": [
            "8\n"
          ]
        }
      ],
      "source": [
        "def largest(array, n):\n",
        "  array.sort()\n",
        "  return array[n-1]\n",
        "\n",
        "array = [1,3,8,3,6,5]\n",
        "n = len(array)\n",
        "num = largest(array, n)\n",
        "print(num)"
      ]
    },
    {
      "cell_type": "markdown",
      "metadata": {
        "id": "xU7lgsYo-CoV"
      },
      "source": [
        "Sum of an array"
      ]
    },
    {
      "cell_type": "code",
      "execution_count": 8,
      "metadata": {
        "colab": {
          "base_uri": "https://localhost:8080/"
        },
        "id": "ZdpzsGND-ED4",
        "outputId": "a54ac310-dd4e-4376-8add-5880ec1f8534"
      },
      "outputs": [
        {
          "name": "stdout",
          "output_type": "stream",
          "text": [
            "6\n"
          ]
        }
      ],
      "source": [
        "array = [1,2,3]\n",
        "num = 0\n",
        "for i in array:\n",
        "  num = num + i\n",
        "\n",
        "print(num)\n"
      ]
    },
    {
      "cell_type": "markdown",
      "metadata": {
        "id": "C5mI1uSrONmv"
      },
      "source": [
        "Swap two elements in a list"
      ]
    },
    {
      "cell_type": "code",
      "execution_count": 11,
      "metadata": {
        "colab": {
          "base_uri": "https://localhost:8080/"
        },
        "id": "up8rm-pFOP0Y",
        "outputId": "e3207526-1afa-4997-fd29-fbe99f457fbb"
      },
      "outputs": [
        {
          "name": "stdout",
          "output_type": "stream",
          "text": [
            "[5, 3, 1, 7]\n"
          ]
        }
      ],
      "source": [
        "def positionswap(list, p1, p2):\n",
        "  list[p1], list[p2] = list[p2], list[p1]\n",
        "\n",
        "  return list\n",
        "\n",
        "list = [1,3,5,7]\n",
        "p1,p2 = 1,3\n",
        "\n",
        "print(positionswap(list, p1-1, p2-1))"
      ]
    },
    {
      "cell_type": "markdown",
      "metadata": {
        "id": "n7zWPpR5ZAKH"
      },
      "source": [
        "Find length of list"
      ]
    },
    {
      "cell_type": "code",
      "execution_count": 13,
      "metadata": {
        "colab": {
          "base_uri": "https://localhost:8080/"
        },
        "id": "FuFrwX7tZDTv",
        "outputId": "a849c685-7bcb-47ff-9345-be25e74e3852"
      },
      "outputs": [
        {
          "data": {
            "text/plain": [
              "4"
            ]
          },
          "execution_count": 13,
          "metadata": {},
          "output_type": "execute_result"
        }
      ],
      "source": [
        "list = [1,2,3,4]\n",
        "length = len(list)\n",
        "length"
      ]
    },
    {
      "cell_type": "markdown",
      "metadata": {
        "id": "sYpyr2NhZp6u"
      },
      "source": [
        "Check if element is in the list"
      ]
    },
    {
      "cell_type": "code",
      "execution_count": 14,
      "metadata": {
        "colab": {
          "base_uri": "https://localhost:8080/"
        },
        "id": "I63Yf-6NZsoC",
        "outputId": "1e58c01d-ae80-4806-caf4-cf888e3adbcc"
      },
      "outputs": [
        {
          "name": "stdout",
          "output_type": "stream",
          "text": [
            "it is in the list\n"
          ]
        }
      ],
      "source": [
        "list = [1,3,5,7,9]\n",
        "num = 5\n",
        "\n",
        "if num in list:\n",
        "  print(\"it is in the list\")\n",
        "else:\n",
        "  print(\"it does not exist in the list\")"
      ]
    },
    {
      "cell_type": "markdown",
      "metadata": {
        "id": "Lhmj-hikax_F"
      },
      "source": [
        "Reverse list"
      ]
    },
    {
      "cell_type": "code",
      "execution_count": 15,
      "metadata": {
        "colab": {
          "base_uri": "https://localhost:8080/"
        },
        "id": "QXb1dHpbazR9",
        "outputId": "01fd76b1-4d91-46c2-86de-dbacfc4d6c83"
      },
      "outputs": [
        {
          "name": "stdout",
          "output_type": "stream",
          "text": [
            "[9, 7, 5, 3, 1]\n"
          ]
        }
      ],
      "source": [
        "list = [1,3,5,7,9]\n",
        "\n",
        "list.reverse()\n",
        "print(list)"
      ]
    },
    {
      "cell_type": "markdown",
      "metadata": {
        "id": "OvR7OMsAa-Ez"
      },
      "source": [
        "Sum of elements in list"
      ]
    },
    {
      "cell_type": "code",
      "execution_count": 17,
      "metadata": {
        "colab": {
          "base_uri": "https://localhost:8080/"
        },
        "id": "daPJA3Wybk_e",
        "outputId": "327e5d7d-27d5-4b61-a0f2-6fd7f8d64b87"
      },
      "outputs": [
        {
          "data": {
            "text/plain": [
              "25"
            ]
          },
          "execution_count": 17,
          "metadata": {},
          "output_type": "execute_result"
        }
      ],
      "source": [
        "list = [1,3,5,7,9]\n",
        "total = sum(list)\n",
        "total"
      ]
    },
    {
      "cell_type": "markdown",
      "metadata": {
        "id": "mFoYPnMlb1db"
      },
      "source": [
        "Find lagest number in list"
      ]
    },
    {
      "cell_type": "code",
      "execution_count": 20,
      "metadata": {
        "colab": {
          "base_uri": "https://localhost:8080/"
        },
        "id": "ffkNbCRdb5Zt",
        "outputId": "4bcfd12f-28fd-4285-bb14-c451d45b3e4a"
      },
      "outputs": [
        {
          "name": "stdout",
          "output_type": "stream",
          "text": [
            "9\n"
          ]
        }
      ],
      "source": [
        "list = [2,5,2,9,3,6]\n",
        "\n",
        "list.sort()\n",
        "\n",
        "print(list[-1])"
      ]
    },
    {
      "cell_type": "markdown",
      "metadata": {
        "id": "-SY7WlmGdHm1"
      },
      "source": [
        "Find second largest"
      ]
    },
    {
      "cell_type": "code",
      "execution_count": 22,
      "metadata": {
        "colab": {
          "base_uri": "https://localhost:8080/"
        },
        "id": "atRs_hnIdI7x",
        "outputId": "1b1efea5-1f1e-444c-8419-91061f5abb1a"
      },
      "outputs": [
        {
          "name": "stdout",
          "output_type": "stream",
          "text": [
            "8\n"
          ]
        }
      ],
      "source": [
        "list = [5,7,3,8,5,3,8,9,1]\n",
        "\n",
        "list.sort()\n",
        "print(list[-2])"
      ]
    },
    {
      "cell_type": "markdown",
      "metadata": {
        "id": "DjQTOcAKdzVm"
      },
      "source": [
        "Print Even number in list"
      ]
    },
    {
      "cell_type": "code",
      "execution_count": 23,
      "metadata": {
        "colab": {
          "base_uri": "https://localhost:8080/"
        },
        "id": "P5cLTx6ld1X_",
        "outputId": "11e8db0a-d8a4-4461-e0c3-bbf2d78e3edb"
      },
      "outputs": [
        {
          "name": "stdout",
          "output_type": "stream",
          "text": [
            "8\n",
            "4\n",
            "4\n",
            "8\n"
          ]
        }
      ],
      "source": [
        "list = [1,3,8,4,3,9,4,8,5]\n",
        "\n",
        "for num in list:\n",
        "  if num % 2 == 0:\n",
        "    print(num)"
      ]
    },
    {
      "cell_type": "markdown",
      "metadata": {
        "id": "yCITdsGMeIWe"
      },
      "source": [
        "Print odd number in list"
      ]
    },
    {
      "cell_type": "code",
      "execution_count": 25,
      "metadata": {
        "colab": {
          "base_uri": "https://localhost:8080/"
        },
        "id": "54MHBPYDeKAf",
        "outputId": "14420dd5-b7a0-4e08-eec8-2d7569a9d1a0"
      },
      "outputs": [
        {
          "name": "stdout",
          "output_type": "stream",
          "text": [
            "3\n",
            "5\n",
            "9\n",
            "1\n"
          ]
        }
      ],
      "source": [
        "list = [3,2,8,5,9,4,6,1]\n",
        "\n",
        "for num in list:\n",
        "  if num % 2 == 1:\n",
        "    print(num)"
      ]
    },
    {
      "cell_type": "markdown",
      "metadata": {
        "id": "6sb8aEFZekDV"
      },
      "source": [
        "print positive number in a list"
      ]
    },
    {
      "cell_type": "code",
      "execution_count": 26,
      "metadata": {
        "colab": {
          "base_uri": "https://localhost:8080/"
        },
        "id": "pwx64sKAemcY",
        "outputId": "d542101f-f08d-4283-a3e1-540a520c301a"
      },
      "outputs": [
        {
          "name": "stdout",
          "output_type": "stream",
          "text": [
            "12\n",
            "45\n",
            "5\n",
            "78\n"
          ]
        }
      ],
      "source": [
        "list = [12,45,-54,5,-8,-4,78]\n",
        "\n",
        "for num in list:\n",
        "  if num > 0:\n",
        "    print(num)"
      ]
    },
    {
      "cell_type": "markdown",
      "metadata": {
        "id": "3_0rdjmCe1Ez"
      },
      "source": [
        "print negative number in a list"
      ]
    },
    {
      "cell_type": "code",
      "execution_count": 27,
      "metadata": {
        "colab": {
          "base_uri": "https://localhost:8080/"
        },
        "id": "0NMokQiVe2pE",
        "outputId": "383621a5-7517-49b7-abda-b8ad2f6000f4"
      },
      "outputs": [
        {
          "name": "stdout",
          "output_type": "stream",
          "text": [
            "-54\n",
            "-8\n",
            "-4\n"
          ]
        }
      ],
      "source": [
        "list = [12,45,-54,5,-8,-4,78]\n",
        "\n",
        "for num in list:\n",
        "  if num < 0:\n",
        "    print(num)"
      ]
    },
    {
      "cell_type": "markdown",
      "metadata": {
        "id": "sN-H07S-gJsR"
      },
      "source": [
        "Add two matrices"
      ]
    },
    {
      "cell_type": "code",
      "execution_count": 28,
      "metadata": {
        "colab": {
          "base_uri": "https://localhost:8080/"
        },
        "id": "RAwaO3bPgLIG",
        "outputId": "f45d71af-de21-4d62-8034-06a31e7e7085"
      },
      "outputs": [
        {
          "name": "stdout",
          "output_type": "stream",
          "text": [
            "[10, 10, 10]\n",
            "[10, 10, 10]\n",
            "[10, 10, 10]\n"
          ]
        }
      ],
      "source": [
        "X = [[1,2,3],\n",
        "    [4 ,5,6],\n",
        "    [7 ,8,9]]\n",
        "\n",
        "Y = [[9,8,7],\n",
        "    [6,5,4],\n",
        "    [3,2,1]]\n",
        "\n",
        "\n",
        "result = [[0,0,0],\n",
        "        [0,0,0],\n",
        "        [0,0,0]]\n",
        "\n",
        "for i in range(len(X)): # iterate rows\n",
        "    for j in range(len(X[0])): # iterate columns\n",
        "        result[i][j] = X[i][j] + Y[i][j]\n",
        "\n",
        "for r in result:\n",
        "    print(r)\n"
      ]
    },
    {
      "cell_type": "markdown",
      "metadata": {
        "id": "hsvWNKUwjFlX"
      },
      "source": [
        "Reverse string"
      ]
    },
    {
      "cell_type": "code",
      "execution_count": 24,
      "metadata": {
        "colab": {
          "base_uri": "https://localhost:8080/"
        },
        "id": "FNvrzpsjjHq1",
        "outputId": "70b41f78-b756-460e-ada4-2fc97a7842cf"
      },
      "outputs": [
        {
          "name": "stdout",
          "output_type": "stream",
          "text": [
            "GFEDCBA\n"
          ]
        }
      ],
      "source": [
        "def reverse_string(input_string):\n",
        "    return input_string[::-1]\n",
        "\n",
        "original_string = \"ABCDEFG\"\n",
        "reversed_string = reverse_string(original_string)\n",
        "print(reversed_string)"
      ]
    },
    {
      "cell_type": "markdown",
      "metadata": {
        "id": "0S9wpYPMTXmb"
      },
      "source": [
        "Word Frequency Count"
      ]
    },
    {
      "cell_type": "code",
      "execution_count": 2,
      "metadata": {
        "colab": {
          "base_uri": "https://localhost:8080/"
        },
        "id": "BBfuff7hTZTO",
        "outputId": "bb593bf3-23d3-44bf-9827-7ad9a38332a1"
      },
      "outputs": [
        {
          "name": "stdout",
          "output_type": "stream",
          "text": [
            "The words frequency : {'This': 1, 'is': 2, 'a': 1, 'test': 1, 'string': 2, 'to': 1, 'count': 1, 'the': 2, 'frequency': 1, 'of': 1}\n"
          ]
        }
      ],
      "source": [
        "string = \"This is a test string to count the frequency of the string\"\n",
        "res = {key: string.count(key) for key in string.split()}\n",
        "print(\"The words frequency : \" + str(res))"
      ]
    },
    {
      "cell_type": "markdown",
      "metadata": {
        "id": "KV-WNy8SUbO0"
      },
      "source": [
        "Split and join string"
      ]
    },
    {
      "cell_type": "code",
      "execution_count": 5,
      "metadata": {
        "colab": {
          "base_uri": "https://localhost:8080/"
        },
        "id": "2FUWSpFLVQwS",
        "outputId": "7a5b0a11-fc72-4ac0-9d25-03a7fa42122d"
      },
      "outputs": [
        {
          "name": "stdout",
          "output_type": "stream",
          "text": [
            "['String1', 'String2', 'String3']\n",
            "String1-String2-String3\n"
          ]
        }
      ],
      "source": [
        "string = 'String1 String2 String3'\n",
        "\n",
        "print(string.split(\" \"))\n",
        "\n",
        "print(\"-\".join(string.split()))"
      ]
    },
    {
      "cell_type": "markdown",
      "metadata": {
        "id": "v5qRJ1rfVe31"
      },
      "source": [
        "Execute string of a code"
      ]
    },
    {
      "cell_type": "code",
      "execution_count": 7,
      "metadata": {
        "colab": {
          "base_uri": "https://localhost:8080/"
        },
        "id": "zfjxChmuWCxZ",
        "outputId": "2fc41696-5382-4638-b550-40b79e898cc3"
      },
      "outputs": [
        {
          "name": "stdout",
          "output_type": "stream",
          "text": [
            "14\n"
          ]
        }
      ],
      "source": [
        "code = '6+5+3'\n",
        "result = eval(code)\n",
        "print(result)"
      ]
    },
    {
      "cell_type": "markdown",
      "metadata": {
        "id": "eHg2xv-yWQFj"
      },
      "source": [
        "sum of all items in a dictionary"
      ]
    },
    {
      "cell_type": "code",
      "execution_count": 8,
      "metadata": {
        "colab": {
          "base_uri": "https://localhost:8080/"
        },
        "id": "qE4R4asvWTCc",
        "outputId": "9d97d2b4-cc9b-4994-ed83-2529845a93dc"
      },
      "outputs": [
        {
          "name": "stdout",
          "output_type": "stream",
          "text": [
            "Sum : 600\n"
          ]
        }
      ],
      "source": [
        "def returnSum(myDict):\n",
        "\n",
        "    list = []\n",
        "    for i in myDict:\n",
        "        list.append(myDict[i])\n",
        "    final = sum(list)\n",
        "\n",
        "    return final\n",
        "\n",
        "dict = {'a': 100, 'b': 200, 'c': 300}\n",
        "print(\"Sum :\", returnSum(dict))"
      ]
    },
    {
      "cell_type": "markdown",
      "metadata": {
        "id": "VMF7p5tyWu2V"
      },
      "source": [
        "remove a key from a dictionary"
      ]
    },
    {
      "cell_type": "code",
      "execution_count": 9,
      "metadata": {
        "colab": {
          "base_uri": "https://localhost:8080/"
        },
        "id": "7jP9wCecWxCV",
        "outputId": "62995b79-024a-442b-ca1a-e79c1b34a9f7"
      },
      "outputs": [
        {
          "name": "stdout",
          "output_type": "stream",
          "text": [
            "The dictionary after remove is :  {'Arushi': 22, 'Haritha': 21}\n"
          ]
        }
      ],
      "source": [
        "test_dict = {\"Arushi\": 22, \"Mani\": 21, \"Haritha\": 21}\n",
        "\n",
        "del test_dict['Mani']\n",
        "\n",
        "print(\"The dictionary after remove is : \", test_dict)"
      ]
    },
    {
      "cell_type": "markdown",
      "metadata": {
        "id": "3GATUHXmXKHM"
      },
      "source": [
        "merge dictionary"
      ]
    },
    {
      "cell_type": "code",
      "execution_count": 27,
      "metadata": {
        "colab": {
          "base_uri": "https://localhost:8080/"
        },
        "id": "D9NkbfLKXLAq",
        "outputId": "5b439ef1-a3c4-4e0e-daf5-b080f1f1346a"
      },
      "outputs": [
        {
          "name": "stdout",
          "output_type": "stream",
          "text": [
            "None\n",
            "{'d': 6, 'c': 4, 'a': 10, 'b': 8}\n"
          ]
        }
      ],
      "source": [
        "def Merge(dict1, dict2):\n",
        "    return(dict2.update(dict1))\n",
        "\n",
        "dict1 = {'a': 10, 'b': 8}\n",
        "dict2 = {'d': 6, 'c': 4}\n",
        "\n",
        "print(Merge(dict1, dict2))\n",
        "\n",
        "print(dict2)"
      ]
    },
    {
      "cell_type": "markdown",
      "metadata": {
        "id": "sAzARpKSZMa8"
      },
      "source": [
        "remove duplicate from words from sentence"
      ]
    },
    {
      "cell_type": "code",
      "execution_count": 31,
      "metadata": {
        "colab": {
          "base_uri": "https://localhost:8080/"
        },
        "id": "ARmWpHlXZUEc",
        "outputId": "8eda3fda-8e11-4c2b-eb73-34573487b876"
      },
      "outputs": [
        {
          "name": "stdout",
          "output_type": "stream",
          "text": [
            "A C B D\n"
          ]
        }
      ],
      "source": [
        "string = 'A B A C C C D'\n",
        "print(' '.join(set(string.split())))"
      ]
    },
    {
      "cell_type": "markdown",
      "metadata": {
        "id": "JnwEiAKfbKjt"
      },
      "source": [
        "size of tuple"
      ]
    },
    {
      "cell_type": "code",
      "execution_count": 33,
      "metadata": {
        "colab": {
          "base_uri": "https://localhost:8080/"
        },
        "id": "I6QA4QvYbL6g",
        "outputId": "55d3a109-4b59-4d2c-d8d3-e35471aeb822"
      },
      "outputs": [
        {
          "name": "stdout",
          "output_type": "stream",
          "text": [
            "Size of Tuple1: 88bytes\n",
            "Size of Tuple2: 88bytes\n"
          ]
        }
      ],
      "source": [
        "import sys\n",
        "\n",
        "Tuple1 = (\"A\", 1, \"B\", 2, \"C\", 3)\n",
        "Tuple2 = (\"Geek1\", \"Raju\", \"Geek2\", \"Nikhil\", \"Geek3\", \"Deepanshu\")\n",
        "\n",
        "print(\"Size of Tuple1: \" + str(sys.getsizeof(Tuple1)) + \"bytes\")\n",
        "print(\"Size of Tuple2: \" + str(sys.getsizeof(Tuple2)) + \"bytes\")\n"
      ]
    },
    {
      "cell_type": "markdown",
      "metadata": {
        "id": "2BNBVcD2ecFF"
      },
      "source": [
        "extract digit from tuple list"
      ]
    },
    {
      "cell_type": "code",
      "execution_count": 34,
      "metadata": {
        "colab": {
          "base_uri": "https://localhost:8080/"
        },
        "id": "sUxfLlm5edeE",
        "outputId": "2cb7c42d-206b-4db9-d6d7-894ad598c8a5"
      },
      "outputs": [
        {
          "name": "stdout",
          "output_type": "stream",
          "text": [
            "The original list is : [(15, 3), (3, 9), (1, 10), (99, 2)]\n",
            "The extracted digits : [5, 1, 0, 2, 3, 9]\n"
          ]
        }
      ],
      "source": [
        "test_list = [(15, 3), (3, 9), (1, 10), (99, 2)]\n",
        "\n",
        "print(\"The original list is : \" + str(test_list))\n",
        "x=\"\"\n",
        "\n",
        "for i in test_list:\n",
        "    for j in i:\n",
        "        x+=str(j)\n",
        "res=list(map(int,set(x)))\n",
        "\n",
        "print(\"The extracted digits : \" + str(res))"
      ]
    },
    {
      "cell_type": "markdown",
      "metadata": {
        "id": "YRn4gQCFfRBj"
      },
      "source": [
        "adding tuple to list"
      ]
    },
    {
      "cell_type": "code",
      "execution_count": 35,
      "metadata": {
        "colab": {
          "base_uri": "https://localhost:8080/"
        },
        "id": "xJOaVJD9fSIv",
        "outputId": "932f3ddc-8ca2-4dca-bf45-00345d3a98a9"
      },
      "outputs": [
        {
          "name": "stdout",
          "output_type": "stream",
          "text": [
            "The original list is : [5, 6, 7]\n",
            "The container after addition : [5, 6, 7, 9, 10]\n"
          ]
        }
      ],
      "source": [
        "test_list = [5, 6, 7]\n",
        "\n",
        "print(\"The original list is : \" + str(test_list))\n",
        "\n",
        "test_tup = (9, 10)\n",
        "\n",
        "test_list += test_tup\n",
        "\n",
        "print(\"The list after addition : \" + str(test_list))"
      ]
    },
    {
      "cell_type": "markdown",
      "metadata": {
        "id": "lmz-pTb4fven"
      },
      "source": [
        "binary search"
      ]
    },
    {
      "cell_type": "code",
      "execution_count": 36,
      "metadata": {
        "colab": {
          "base_uri": "https://localhost:8080/"
        },
        "id": "MqEY3rssfwpQ",
        "outputId": "4ed6aabd-c100-4af0-ea3e-900fe30e5d05"
      },
      "outputs": [
        {
          "name": "stdout",
          "output_type": "stream",
          "text": [
            "Element is present at index 3\n"
          ]
        }
      ],
      "source": [
        "def binary_search(arr, low, high, x):\n",
        "\n",
        "    if high >= low:\n",
        "\n",
        "        mid = (high + low) // 2\n",
        "\n",
        "        if arr[mid] == x:\n",
        "            return mid\n",
        "\n",
        "        elif arr[mid] > x:\n",
        "            return binary_search(arr, low, mid - 1, x)\n",
        "\n",
        "        else:\n",
        "            return binary_search(arr, mid + 1, high, x)\n",
        "\n",
        "    else:\n",
        "        return -1\n",
        "\n",
        "\n",
        "arr = [ 2, 3, 4, 10, 40 ]\n",
        "x = 10\n",
        "\n",
        "result = binary_search(arr, 0, len(arr)-1, x)\n",
        "\n",
        "if result != -1:\n",
        "    print(\"Element is present at index\", str(result))\n",
        "else:\n",
        "    print(\"Element is not present in array\")"
      ]
    },
    {
      "cell_type": "markdown",
      "metadata": {
        "id": "nh_LGZvXgYbm"
      },
      "source": [
        "linear search"
      ]
    },
    {
      "cell_type": "code",
      "execution_count": 38,
      "metadata": {
        "colab": {
          "base_uri": "https://localhost:8080/"
        },
        "id": "FlOWM45ygZRk",
        "outputId": "a1a1ba27-51ed-452d-fd08-bfb8b6a442bb"
      },
      "outputs": [
        {
          "data": {
            "text/plain": [
              "2"
            ]
          },
          "execution_count": 38,
          "metadata": {},
          "output_type": "execute_result"
        }
      ],
      "source": [
        "def search(arr, x):\n",
        "\n",
        "    for i in range(len(arr)):\n",
        "\n",
        "        if arr[i] == x:\n",
        "            return i\n",
        "\n",
        "    return -1\n",
        "\n",
        "search([1,2,3,4,5], 3)"
      ]
    },
    {
      "cell_type": "markdown",
      "metadata": {
        "id": "4X0yJXWejDLu"
      },
      "source": [
        "quick sort"
      ]
    },
    {
      "cell_type": "code",
      "execution_count": 39,
      "metadata": {
        "colab": {
          "base_uri": "https://localhost:8080/"
        },
        "id": "KRtOF2CjjD4n",
        "outputId": "a623f85a-f025-47ab-c9b2-e7ba3654ef00"
      },
      "outputs": [
        {
          "name": "stdout",
          "output_type": "stream",
          "text": [
            "Sorted Array in Ascending Order:\n",
            "[-2, 1, 1, 4, 7, 9, 10]\n"
          ]
        }
      ],
      "source": [
        "def quicksort(arr):\n",
        "    if len(arr) <= 1:\n",
        "        return arr\n",
        "    else:\n",
        "        pivot = arr[0]\n",
        "        left = [x for x in arr[1:] if x < pivot]\n",
        "        right = [x for x in arr[1:] if x >= pivot]\n",
        "        return quicksort(left) + [pivot] + quicksort(right)\n",
        "\n",
        "\n",
        "arr = [1, 7, 4, 1, 10, 9, -2]\n",
        "sorted_arr = quicksort(arr)\n",
        "print(\"Sorted Array in Ascending Order:\")\n",
        "print(sorted_arr)"
      ]
    },
    {
      "cell_type": "markdown",
      "metadata": {
        "id": "opaseUeIkA9L"
      },
      "source": [
        "bubble sort"
      ]
    },
    {
      "cell_type": "code",
      "execution_count": 40,
      "metadata": {
        "colab": {
          "base_uri": "https://localhost:8080/"
        },
        "id": "88Xz3mwWkBoU",
        "outputId": "a499869a-2b9e-4973-df7c-a952ab711cce"
      },
      "outputs": [
        {
          "name": "stdout",
          "output_type": "stream",
          "text": [
            "Unsorted list is,\n",
            "[39, 12, 18, 85, 72, 10, 2, 18]\n",
            "Sorted Array is, \n",
            "[2, 10, 12, 18, 18, 39, 72, 85]\n"
          ]
        }
      ],
      "source": [
        "\n",
        "def bubblesort(elements):\n",
        "    swapped = False\n",
        "    # Looping from size of array from last index[-1] to index [0]\n",
        "    for n in range(len(elements)-1, 0, -1):\n",
        "        for i in range(n):\n",
        "            if elements[i] > elements[i + 1]:\n",
        "                swapped = True\n",
        "                # swapping data if the element is less than next element in the array\n",
        "                elements[i], elements[i + 1] = elements[i + 1], elements[i]\n",
        "        if not swapped:\n",
        "            # exiting the function if we didn't make a single swap\n",
        "            # meaning that the array is already sorted.\n",
        "            return\n",
        "\n",
        "elements = [39, 12, 18, 85, 72, 10, 2, 18]\n",
        "\n",
        "print(\"Unsorted list is,\")\n",
        "print(elements)\n",
        "bubblesort(elements)\n",
        "print(\"Sorted Array is, \")\n",
        "print(elements)"
      ]
    },
    {
      "cell_type": "markdown",
      "metadata": {
        "id": "kppqZopVkPV4"
      },
      "source": [
        "heap sort"
      ]
    },
    {
      "cell_type": "code",
      "execution_count": 41,
      "metadata": {
        "colab": {
          "base_uri": "https://localhost:8080/"
        },
        "id": "R4hHRvpekP42",
        "outputId": "82c522ea-cfb0-4e33-fdc3-0c17d1060780"
      },
      "outputs": [
        {
          "name": "stdout",
          "output_type": "stream",
          "text": [
            "Input Array:  [60, 20, 40, 70, 30, 10]\n",
            "Sorted Array:  [10, 20, 30, 40, 60, 70]\n"
          ]
        }
      ],
      "source": [
        "import heapq\n",
        "\n",
        "def heap_sort(arr):\n",
        "    heapq.heapify(arr)\n",
        "    result = []\n",
        "    while arr:\n",
        "        result.append(heapq.heappop(arr))\n",
        "    return result\n",
        "\n",
        "arr = [60, 20, 40, 70, 30, 10]\n",
        "print(\"Input Array: \", arr)\n",
        "print(\"Sorted Array: \", heap_sort(arr))"
      ]
    },
    {
      "cell_type": "markdown",
      "metadata": {
        "id": "wIr7Wc3MkzTL"
      },
      "source": [
        "RegEx to find uppercase lower case and special characters"
      ]
    },
    {
      "cell_type": "code",
      "execution_count": 42,
      "metadata": {
        "colab": {
          "base_uri": "https://localhost:8080/"
        },
        "id": "QJ3b9nZ1k3JZ",
        "outputId": "7bb7c228-6761-42a3-f024-d2bb1fc93ef8"
      },
      "outputs": [
        {
          "name": "stdout",
          "output_type": "stream",
          "text": [
            "The no. of uppercase characters is 4\n",
            "The no. of lowercase characters is 15\n",
            "The no. of numerical characters is 3\n",
            "The no. of special characters is 4\n"
          ]
        }
      ],
      "source": [
        "import re\n",
        "\n",
        "string = \"ThisIsGeeksforGeeks !, 123\"\n",
        "\n",
        "uppercase_characters = re.findall(r\"[A-Z]\", string)\n",
        "lowercase_characters = re.findall(r\"[a-z]\", string)\n",
        "numerical_characters = re.findall(r\"[0-9]\", string)\n",
        "special_characters = re.findall(r\"[, .!?]\", string)\n",
        "\n",
        "print(\"The no. of uppercase characters is\", len(uppercase_characters))\n",
        "print(\"The no. of lowercase characters is\", len(lowercase_characters))\n",
        "print(\"The no. of numerical characters is\", len(numerical_characters))\n",
        "print(\"The no. of special characters is\", len(special_characters))\n"
      ]
    },
    {
      "cell_type": "markdown",
      "metadata": {
        "id": "-WcURGSyobaW"
      },
      "source": [
        "regex to check valid email"
      ]
    },
    {
      "cell_type": "code",
      "execution_count": 43,
      "metadata": {
        "colab": {
          "base_uri": "https://localhost:8080/"
        },
        "id": "I7RIz1E_oe5z",
        "outputId": "4e24a85d-62b7-4c2f-dbe8-656798dda0ac"
      },
      "outputs": [
        {
          "name": "stdout",
          "output_type": "stream",
          "text": [
            "Valid Email\n",
            "Valid Email\n",
            "Invalid Email\n"
          ]
        }
      ],
      "source": [
        "import re\n",
        "\n",
        "regex = r'\\b[A-Za-z0-9._%+-]+@[A-Za-z0-9.-]+\\.[A-Z|a-z]{2,7}\\b'\n",
        "\n",
        "def check(email):\n",
        "\n",
        "\tif(re.fullmatch(regex, email)):\n",
        "\t\tprint(\"Valid Email\")\n",
        "\n",
        "\telse:\n",
        "\t\tprint(\"Invalid Email\")\n",
        "\n",
        "if __name__ == '__main__':\n",
        "\n",
        "\t# Enter the email\n",
        "\temail = \"ankitrai326@gmail.com\"\n",
        "\n",
        "\t# calling run function\n",
        "\tcheck(email)\n",
        "\n",
        "\temail = \"my.ownsite@our-earth.org\"\n",
        "\tcheck(email)\n",
        "\n",
        "\temail = \"ankitrai326.com\"\n",
        "\tcheck(email)\n"
      ]
    },
    {
      "cell_type": "markdown",
      "metadata": {
        "id": "RSo4kq0DpHvZ"
      },
      "source": [
        "regex to check if name end with number"
      ]
    },
    {
      "cell_type": "code",
      "execution_count": 44,
      "metadata": {
        "colab": {
          "base_uri": "https://localhost:8080/"
        },
        "id": "HZTPI2fapKV4",
        "outputId": "3a55ea83-1691-48c6-d8eb-9f5a286876aa"
      },
      "outputs": [
        {
          "name": "stdout",
          "output_type": "stream",
          "text": [
            "Discard\n",
            "Accept\n",
            "Discard\n",
            "Accept\n"
          ]
        }
      ],
      "source": [
        "import re\n",
        "\n",
        "regex = '[a-zA-z0-9]$'\n",
        "\n",
        "def check(string):\n",
        "\n",
        "\tif(re.search(regex, string)):\n",
        "\t\tprint(\"Accept\")\n",
        "\n",
        "\telse:\n",
        "\t\tprint(\"Discard\")\n",
        "\n",
        "if __name__ == '__main__' :\n",
        "\n",
        "\tstring = \"ankirai@\"\n",
        "\n",
        "\tcheck(string)\n",
        "\n",
        "\tstring = \"ankitrai326\"\n",
        "\tcheck(string)\n",
        "\n",
        "\tstring = \"ankit.\"\n",
        "\tcheck(string)\n",
        "\n",
        "\tstring = \"geeksforgeeks\"\n",
        "\tcheck(string)\n"
      ]
    },
    {
      "cell_type": "markdown",
      "metadata": {
        "id": "1qx_OrRmpzQ6"
      },
      "source": [
        "regex to check if a strin starts and end with the same character"
      ]
    },
    {
      "cell_type": "code",
      "execution_count": 45,
      "metadata": {
        "colab": {
          "base_uri": "https://localhost:8080/"
        },
        "id": "BEla1fs9p2hl",
        "outputId": "46958b9c-0051-4f8b-9b98-334ec23465a5"
      },
      "outputs": [
        {
          "name": "stdout",
          "output_type": "stream",
          "text": [
            "Valid\n",
            "Valid\n",
            "Invalid\n"
          ]
        }
      ],
      "source": [
        "import re\n",
        "\n",
        "regex = r'^[a-z]$|^([a-z]).*\\1$'\n",
        "\n",
        "def check(string):\n",
        "\tif(re.search(regex, string)):\n",
        "\t\tprint(\"Valid\")\n",
        "\telse:\n",
        "\t\tprint(\"Invalid\")\n",
        "\n",
        "if __name__ == '__main__' :\n",
        "\n",
        "\tsample1 = \"abba\"\n",
        "\tsample2 = \"a\"\n",
        "\tsample3 = \"abcd\"\n",
        "\n",
        "\tcheck(sample1)\n",
        "\tcheck(sample2)\n",
        "\tcheck(sample3)\n"
      ]
    },
    {
      "cell_type": "markdown",
      "metadata": {
        "id": "pt8rt16nqm0E"
      },
      "source": [
        "Read file word by word"
      ]
    },
    {
      "cell_type": "code",
      "execution_count": null,
      "metadata": {
        "id": "OO37bGUkqoNR"
      },
      "outputs": [],
      "source": [
        "with open('insert file path here','r') as file:\n",
        "\n",
        "    for line in file:\n",
        "\n",
        "        for word in line.split():\n",
        "\n",
        "            print(word)"
      ]
    },
    {
      "cell_type": "markdown",
      "metadata": {
        "id": "Y2mTAPljq-r8"
      },
      "source": [
        "read file by character"
      ]
    },
    {
      "cell_type": "code",
      "execution_count": null,
      "metadata": {
        "id": "UNYSNrdMrACb"
      },
      "outputs": [],
      "source": [
        "file = open('insert file path here ', 'r')\n",
        "\n",
        "while 1:\n",
        "    char = file.read(1)\n",
        "    if not char:\n",
        "        break\n",
        "\n",
        "    print(char)\n",
        "\n",
        "file.close()"
      ]
    },
    {
      "cell_type": "markdown",
      "metadata": {
        "id": "NbCDjoTStCe1"
      },
      "source": [
        "print prime numbers of a guven number"
      ]
    },
    {
      "cell_type": "code",
      "execution_count": null,
      "metadata": {
        "id": "AsI_QaTltD4S"
      },
      "outputs": [],
      "source": [
        "import math\n",
        "def primeFactors(n):\n",
        "\n",
        "\n",
        "\twhile n % 2 == 0:\n",
        "\t\tprint(2)\n",
        "\t\tn = n // 2\n",
        "\n",
        "\tfor i in range(3,int(math.sqrt(n))+1,2):\n",
        "\n",
        "\t\twhile n % i== 0:\n",
        "\t\t\tprint(i)\n",
        "\t\t\tn = n // i\n",
        "\n",
        "\tif n > 2:\n",
        "\t\tprint(n)\n",
        "\n",
        "n = 315\n",
        "primeFactors(n)\n"
      ]
    }
  ],
  "metadata": {
    "colab": {
      "provenance": []
    },
    "kernelspec": {
      "display_name": "Python 3",
      "name": "python3"
    },
    "language_info": {
      "name": "python"
    }
  },
  "nbformat": 4,
  "nbformat_minor": 0
}
